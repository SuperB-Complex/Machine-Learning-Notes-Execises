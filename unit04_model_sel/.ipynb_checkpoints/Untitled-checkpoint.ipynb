{
 "cells": [
  {
   "cell_type": "code",
   "execution_count": 2,
   "metadata": {},
   "outputs": [
    {
     "name": "stdout",
     "output_type": "stream",
     "text": [
      "[2.80794010e-01 1.20055849e+00 2.28674884e+04 3.23613077e+01\n",
      " 4.55096889e+00 6.76736570e-01]\n",
      "[[1.33039964e+02 1.84452765e+02 2.54450367e+02 3.16840000e+02]\n",
      " [3.87034587e+02 4.70890000e+02 5.31825106e+02 6.42136725e+02]\n",
      " [7.61760000e+02 8.98195834e+02 9.84394723e+02 1.15524480e+03]\n",
      " [5.73985764e+00 1.57471271e-01 7.27650455e+04 1.17348666e+01]]\n",
      "[1.00937805e+01 1.20055849e+00 8.64266434e+04 1.72980169e+01\n",
      " 1.62701796e+01 6.76736570e-01]\n",
      "[[1.44216881e+02 1.96175277e+02 2.56002352e+02 3.24040000e+02]\n",
      " [4.00106802e+02 4.84090000e+02 5.76881095e+02 6.76435050e+02]\n",
      " [7.84160000e+02 9.00000905e+02 1.02439054e+03 1.15600012e+03]\n",
      " [6.23901764e+00 1.57471271e-01 7.24958125e+04 1.29286433e+01]]\n"
     ]
    }
   ],
   "source": [
    "import numpy as np\n",
    "x1 = np.array([2.4958e+000, -4.9407e-321, -2.6925e+002, 3.5918e+000, 1.5786e+000, -6.2103e-319])\n",
    "x2 = np.array([1.9659e+000,  1.0957e+000, -1.1803e+002, -2.0969e+000, 3.7119e+000,  8.2264e-001])\n",
    "x11 = np.array([[12,14, 16, 18],[20 ,22, 24, 26],[28, 30 ,32 ,34], [2.4958e+000, -4.9407e-321, -2.6925e+002, 3.5918e+000]])\n",
    "x22 = np.array([[0.46570489, 0.41866115, 0.04849955,0.2],[0.32680537, 0.3,0.93866643, 0.65958317],[0.4,0.03008451, 0.6249347 , 0.01110774],[0.1,0.3968265 , 0.49996846, 0.16618084]])\n",
    "youtput = np.square(x1 - x2)\n",
    "print(youtput)\n",
    "yyoutput = np.square(x11 - x22)\n",
    "print(yyoutput)\n",
    "yfunction = np.square(x1) + np.square(x2)\n",
    "print(yfunction)\n",
    "yyfunction = np.square(x11) + np.square(x22)\n",
    "print(yyfunction)"
   ]
  },
  {
   "cell_type": "code",
   "execution_count": 3,
   "metadata": {},
   "outputs": [],
   "source": [
    "import matplotlib.pyplot as plt\n",
    "#plt.plot([-7.2103e-319,4.5918e+000], youtput)\n",
    "#plt.plot([-7.2103e-319,4.5918e+000], yfunction)\n",
    "#x and y must have same first dimension, but have shapes (2,) and (6,)\n",
    "#raise ValueError(\"x and y can be no greater than 2-D, but have \""
   ]
  },
  {
   "cell_type": "code",
   "execution_count": 4,
   "metadata": {},
   "outputs": [
    {
     "data": {
      "text/plain": [
       "<matplotlib.collections.PathCollection at 0x19d15f6b390>"
      ]
     },
     "execution_count": 4,
     "metadata": {},
     "output_type": "execute_result"
    },
    {
     "data": {
      "image/png": "[encoded data removed]",
      "text/plain": [
       "<Figure size 432x288 with 1 Axes>"
      ]
     },
     "metadata": {},
     "output_type": "display_data"
    }
   ],
   "source": [
    "plt.scatter(x1,youtput)\n",
    "plt.scatter(x2, youtput)\n",
    "plt.scatter(x1, yfunction, c = \"red\")\n",
    "plt.scatter(x2, yfunction, c = \"red\")"
   ]
  },
  {
   "cell_type": "code",
   "execution_count": 18,
   "metadata": {},
   "outputs": [
    {
     "name": "stdout",
     "output_type": "stream",
     "text": [
      "[[1.33039964e+02 1.84452765e+02 2.54450367e+02 3.16840000e+02]\n",
      " [3.87034587e+02 4.70890000e+02 5.31825106e+02 6.42136725e+02]\n",
      " [7.61760000e+02 8.98195834e+02 9.84394723e+02 1.15524480e+03]\n",
      " [5.73985764e+00 1.57471271e-01 7.27650455e+04 1.17348666e+01]\n",
      " [1.44216881e+02 1.96175277e+02 2.56002352e+02 3.24040000e+02]\n",
      " [4.00106802e+02 4.84090000e+02 5.76881095e+02 6.76435050e+02]\n",
      " [7.84160000e+02 9.00000905e+02 1.02439054e+03 1.15600012e+03]\n",
      " [6.23901764e+00 1.57471271e-01 7.24958125e+04 1.29286433e+01]]\n",
      "[2.80794010e-01 1.20055849e+00 2.28674884e+04 3.23613077e+01\n",
      " 4.55096889e+00 6.76736570e-01 1.00937805e+01 1.20055849e+00]\n"
     ]
    }
   ],
   "source": [
    "import numpy as np\n",
    "print(np.vstack((yyoutput, yyfunction)))\n",
    "print(np.hstack((youtput, yfunction))[0:-4])\n",
    "X = np.vstack((yyoutput, yyfunction))\n",
    "y = np.hstack((youtput, yfunction))[0:-4]"
   ]
  },
  {
   "cell_type": "code",
   "execution_count": 24,
   "metadata": {},
   "outputs": [],
   "source": [
    "X = X\n",
    "y = y\n",
    "dd = X.shape[0] // 2\n",
    "xtr = X[:dd]\n",
    "xtr\n",
    "ytr = y[:dd]\n",
    "#ytr\n",
    "xts = X[dd:]\n",
    "yts = y[dd:]\n",
    "MSE = []\n",
    "dtest = np.arange(1, 11, 1)\n",
    "#dtest"
   ]
  },
  {
   "cell_type": "code",
   "execution_count": 26,
   "metadata": {},
   "outputs": [
    {
     "data": {
      "text/plain": [
       "array([[6.00512568e+057, 1.27884525e+080, 3.20915087e+110,\n",
       "        3.99819200e+137],\n",
       "       [1.22175864e+168, 3.19836912e+204, 9.30483947e+230,\n",
       "        7.52378447e+278],\n",
       "       [            inf,             inf,             inf,\n",
       "                    inf],\n",
       "       [3.11020131e+002, 1.17054713e+000,             inf,\n",
       "        1.24849792e+005]])"
      ]
     },
     "execution_count": 26,
     "metadata": {},
     "output_type": "execute_result"
    }
   ],
   "source": [
    "np.exp(xtr)"
   ]
  },
  {
   "cell_type": "code",
   "execution_count": 28,
   "metadata": {},
   "outputs": [
    {
     "name": "stdout",
     "output_type": "stream",
     "text": [
      "[[0.99591736 0.56985149 0.63736109]\n",
      " [0.28818489 0.23667304 0.00892669]\n",
      " [0.00197936 0.04693802 0.07998589]\n",
      " [0.38164975 0.34818561 0.57304425]\n",
      " [0.25173165 0.23641406 0.51535346]\n",
      " [0.46914544 0.58630474 0.3842565 ]\n",
      " [0.1376558  0.96469387 0.26808862]\n",
      " [0.23667428 0.58577388 0.65240622]\n",
      " [0.17688604 0.29586053 0.11149813]\n",
      " [0.54964937 0.20031221 0.36807462]]\n",
      "[[0.01172776]\n",
      " [0.27784185]\n",
      " [0.77185621]\n",
      " [0.08236086]\n",
      " [0.10084443]\n",
      " [0.87156269]\n",
      " [0.57443726]\n",
      " [0.94669648]\n",
      " [0.97833679]\n",
      " [0.11112535]]\n"
     ]
    }
   ],
   "source": [
    "X = np.random.rand(10, 3)\n",
    "y = np.random.rand(10,1)\n",
    "print(X)\n",
    "print(y)"
   ]
  },
  {
   "cell_type": "code",
   "execution_count": 30,
   "metadata": {},
   "outputs": [
    {
     "data": {
      "text/plain": [
       "array([[2.70720668, 1.76800447, 1.89148283],\n",
       "       [1.33400393, 1.26702678, 1.00896665],\n",
       "       [1.00198132, 1.04805705, 1.08327179],\n",
       "       [1.46469898, 1.41649513, 1.7736583 ],\n",
       "       [1.28625083, 1.2666987 , 1.67423017],\n",
       "       [1.59862749, 1.7973345 , 1.46852206],\n",
       "       [1.14758049, 2.62398425, 1.307463  ],\n",
       "       [1.26702836, 1.79638063, 1.9201556 ],\n",
       "       [1.19349507, 1.34428266, 1.11795165],\n",
       "       [1.7326454 , 1.22178415, 1.44494986]])"
      ]
     },
     "execution_count": 30,
     "metadata": {},
     "output_type": "execute_result"
    }
   ],
   "source": [
    "np.exp(X)"
   ]
  },
  {
   "cell_type": "code",
   "execution_count": 31,
   "metadata": {},
   "outputs": [],
   "source": [
    "X = X\n",
    "y = y\n",
    "dd = X.shape[0] // 2\n",
    "xtr = X[:dd]\n",
    "xtr\n",
    "ytr = y[:dd]\n",
    "#ytr\n",
    "xts = X[dd:]\n",
    "yts = y[dd:]\n",
    "MSE = []\n",
    "dtest = np.arange(1, 11, 1)"
   ]
  },
  {
   "cell_type": "code",
   "execution_count": 23,
   "metadata": {},
   "outputs": [],
   "source": [
    "def expXFuntion(i, d, u):\n",
    "    return np.exp((-i * u) / d)"
   ]
  },
  {
   "cell_type": "code",
   "execution_count": null,
   "metadata": {},
   "outputs": [],
   "source": [
    "for index, order in enumerate(dtest):\n",
    "    ra = np.arange(0, order + 1, 1)\n",
    "    tstr = []\n",
    "    txts = []\n",
    "    for i in ra:\n",
    "        txtr.append(expXFuntion(i, xtr[i]))"
   ]
  },
  {
   "cell_type": "code",
   "execution_count": 50,
   "metadata": {},
   "outputs": [
    {
     "name": "stdout",
     "output_type": "stream",
     "text": [
      "[[1.08597626]\n",
      " [1.15003436]]\n"
     ]
    },
    {
     "data": {
      "text/plain": [
       "<matplotlib.collections.PathCollection at 0x200cbc553c8>"
      ]
     },
     "execution_count": 50,
     "metadata": {},
     "output_type": "execute_result"
    },
    {
     "data": {
      "image/png": "[encoded data removed]",
      "text/plain": [
       "<Figure size 432x288 with 1 Axes>"
      ]
     },
     "metadata": {},
     "output_type": "display_data"
    }
   ],
   "source": [
    "import numpy as np\n",
    "import matplotlib.pyplot as plt\n",
    "import sklearn.metrics\n",
    "xt = np.array(np.random.uniform(0.0, 1.0, 10)).reshape(10, 1)\n",
    "#print(xt.shape)\n",
    "onem = np.ones((10, 1))\n",
    "#print(onem.shape)\n",
    "ahat = np.hstack((onem, xt))\n",
    "#print(ahat.shape)\n",
    "xtsquare = np.array(np.square(xt)).reshape(10, 1)\n",
    "a = np.hstack((ahat, xtsquare))\n",
    "#print(a.shape)\n",
    "beta0 = np.array([1, 2, -1]).reshape(3, 1)\n",
    "betahat = np.dot(np.linalg.inv(np.dot(ahat.T, ahat)), np.dot(np.dot(ahat.T, a), beta0))\n",
    "#print(beta0.shape)\n",
    "print(betahat)\n",
    "num = 100\n",
    "base = np.random.uniform(0.0, 3.0, num)\n",
    "onesw = np.ones((num, 1))\n",
    "xw = np.array(base).reshape(num, 1)\n",
    "xformodel = np.hstack((onesw, xw))\n",
    "#print(xformodel)\n",
    "predy = np.dot(xformodel, betahat)\n",
    "plt.plot(base, predy)\n",
    "xwsquare = np.array(np.square(base)).reshape(num, 1)\n",
    "#print(xwsquare.shape)\n",
    "xfortrue = np.hstack((xformodel, xwsquare))\n",
    "truey = np.dot(xfortrue, beta0)\n",
    "plt.scatter(base, truey)\n"
   ]
  },
  {
   "cell_type": "code",
   "execution_count": 41,
   "metadata": {},
   "outputs": [
    {
     "ename": "ValueError",
     "evalue": "input operand has more dimensions than allowed by the axis remapping",
     "output_type": "error",
     "traceback": [
      "\u001b[1;31m---------------------------------------------------------------------------\u001b[0m",
      "\u001b[1;31mValueError\u001b[0m                                Traceback (most recent call last)",
      "\u001b[1;32m<ipython-input-41-98966092a602>\u001b[0m in \u001b[0;36m<module>\u001b[1;34m()\u001b[0m\n\u001b[0;32m      2\u001b[0m \u001b[1;32mfrom\u001b[0m \u001b[0mmpl_toolkits\u001b[0m\u001b[1;33m.\u001b[0m\u001b[0mmplot3d\u001b[0m \u001b[1;32mimport\u001b[0m \u001b[0mAxes3D\u001b[0m\u001b[1;33m\u001b[0m\u001b[0m\n\u001b[0;32m      3\u001b[0m \u001b[0max\u001b[0m \u001b[1;33m=\u001b[0m \u001b[0mplt\u001b[0m\u001b[1;33m.\u001b[0m\u001b[0mfigure\u001b[0m\u001b[1;33m(\u001b[0m\u001b[1;33m)\u001b[0m\u001b[1;33m.\u001b[0m\u001b[0mgca\u001b[0m\u001b[1;33m(\u001b[0m\u001b[0mprojection\u001b[0m\u001b[1;33m=\u001b[0m\u001b[1;34m'3d'\u001b[0m\u001b[1;33m)\u001b[0m\u001b[1;33m\u001b[0m\u001b[0m\n\u001b[1;32m----> 4\u001b[1;33m \u001b[0max\u001b[0m\u001b[1;33m.\u001b[0m\u001b[0mplot\u001b[0m\u001b[1;33m(\u001b[0m\u001b[0mxw\u001b[0m\u001b[1;33m,\u001b[0m \u001b[0mxwsquare\u001b[0m\u001b[1;33m,\u001b[0m \u001b[0mnp\u001b[0m\u001b[1;33m.\u001b[0m\u001b[0mdot\u001b[0m\u001b[1;33m(\u001b[0m\u001b[0mxfortrue\u001b[0m\u001b[1;33m,\u001b[0m \u001b[0mbeta0\u001b[0m\u001b[1;33m)\u001b[0m\u001b[1;33m,\u001b[0m \u001b[0mlabel\u001b[0m\u001b[1;33m=\u001b[0m\u001b[1;34m'parametric curve'\u001b[0m\u001b[1;33m)\u001b[0m\u001b[1;33m\u001b[0m\u001b[0m\n\u001b[0m",
      "\u001b[1;32mC:\\User_MJJ_things\\Anaconda_software\\lib\\site-packages\\mpl_toolkits\\mplot3d\\axes3d.py\u001b[0m in \u001b[0;36mplot\u001b[1;34m(self, xs, ys, *args, **kwargs)\u001b[0m\n\u001b[0;32m   1563\u001b[0m \u001b[1;33m\u001b[0m\u001b[0m\n\u001b[0;32m   1564\u001b[0m         \u001b[1;31m# Match length\u001b[0m\u001b[1;33m\u001b[0m\u001b[1;33m\u001b[0m\u001b[0m\n\u001b[1;32m-> 1565\u001b[1;33m         \u001b[0mzs\u001b[0m \u001b[1;33m=\u001b[0m \u001b[0m_backports\u001b[0m\u001b[1;33m.\u001b[0m\u001b[0mbroadcast_to\u001b[0m\u001b[1;33m(\u001b[0m\u001b[0mzs\u001b[0m\u001b[1;33m,\u001b[0m \u001b[0mlen\u001b[0m\u001b[1;33m(\u001b[0m\u001b[0mxs\u001b[0m\u001b[1;33m)\u001b[0m\u001b[1;33m)\u001b[0m\u001b[1;33m\u001b[0m\u001b[0m\n\u001b[0m\u001b[0;32m   1566\u001b[0m \u001b[1;33m\u001b[0m\u001b[0m\n\u001b[0;32m   1567\u001b[0m         \u001b[0mlines\u001b[0m \u001b[1;33m=\u001b[0m \u001b[0msuper\u001b[0m\u001b[1;33m(\u001b[0m\u001b[0mAxes3D\u001b[0m\u001b[1;33m,\u001b[0m \u001b[0mself\u001b[0m\u001b[1;33m)\u001b[0m\u001b[1;33m.\u001b[0m\u001b[0mplot\u001b[0m\u001b[1;33m(\u001b[0m\u001b[0mxs\u001b[0m\u001b[1;33m,\u001b[0m \u001b[0mys\u001b[0m\u001b[1;33m,\u001b[0m \u001b[1;33m*\u001b[0m\u001b[0margs\u001b[0m\u001b[1;33m,\u001b[0m \u001b[1;33m**\u001b[0m\u001b[0mkwargs\u001b[0m\u001b[1;33m)\u001b[0m\u001b[1;33m\u001b[0m\u001b[0m\n",
      "\u001b[1;32mC:\\User_MJJ_things\\Anaconda_software\\lib\\site-packages\\matplotlib\\cbook\\_backports.py\u001b[0m in \u001b[0;36mbroadcast_to\u001b[1;34m(array, shape, subok)\u001b[0m\n\u001b[0;32m    145\u001b[0m            [1, 2, 3]])\n\u001b[0;32m    146\u001b[0m     \"\"\"\n\u001b[1;32m--> 147\u001b[1;33m     \u001b[1;32mreturn\u001b[0m \u001b[0m_broadcast_to\u001b[0m\u001b[1;33m(\u001b[0m\u001b[0marray\u001b[0m\u001b[1;33m,\u001b[0m \u001b[0mshape\u001b[0m\u001b[1;33m,\u001b[0m \u001b[0msubok\u001b[0m\u001b[1;33m=\u001b[0m\u001b[0msubok\u001b[0m\u001b[1;33m,\u001b[0m \u001b[0mreadonly\u001b[0m\u001b[1;33m=\u001b[0m\u001b[1;32mTrue\u001b[0m\u001b[1;33m)\u001b[0m\u001b[1;33m\u001b[0m\u001b[0m\n\u001b[0m",
      "\u001b[1;32mC:\\User_MJJ_things\\Anaconda_software\\lib\\site-packages\\matplotlib\\cbook\\_backports.py\u001b[0m in \u001b[0;36m_broadcast_to\u001b[1;34m(array, shape, subok, readonly)\u001b[0m\n\u001b[0;32m     99\u001b[0m     broadcast = np.nditer(\n\u001b[0;32m    100\u001b[0m         \u001b[1;33m(\u001b[0m\u001b[0marray\u001b[0m\u001b[1;33m,\u001b[0m\u001b[1;33m)\u001b[0m\u001b[1;33m,\u001b[0m \u001b[0mflags\u001b[0m\u001b[1;33m=\u001b[0m\u001b[1;33m[\u001b[0m\u001b[1;34m'multi_index'\u001b[0m\u001b[1;33m,\u001b[0m \u001b[1;34m'refs_ok'\u001b[0m\u001b[1;33m,\u001b[0m \u001b[1;34m'zerosize_ok'\u001b[0m\u001b[1;33m]\u001b[0m \u001b[1;33m+\u001b[0m \u001b[0mextras\u001b[0m\u001b[1;33m,\u001b[0m\u001b[1;33m\u001b[0m\u001b[0m\n\u001b[1;32m--> 101\u001b[1;33m         op_flags=[op_flag], itershape=shape, order='C').itviews[0]\n\u001b[0m\u001b[0;32m    102\u001b[0m     \u001b[0mresult\u001b[0m \u001b[1;33m=\u001b[0m \u001b[0m_maybe_view_as_subclass\u001b[0m\u001b[1;33m(\u001b[0m\u001b[0marray\u001b[0m\u001b[1;33m,\u001b[0m \u001b[0mbroadcast\u001b[0m\u001b[1;33m)\u001b[0m\u001b[1;33m\u001b[0m\u001b[0m\n\u001b[0;32m    103\u001b[0m     \u001b[1;32mif\u001b[0m \u001b[0mneeds_writeable\u001b[0m \u001b[1;32mand\u001b[0m \u001b[1;32mnot\u001b[0m \u001b[0mresult\u001b[0m\u001b[1;33m.\u001b[0m\u001b[0mflags\u001b[0m\u001b[1;33m.\u001b[0m\u001b[0mwriteable\u001b[0m\u001b[1;33m:\u001b[0m\u001b[1;33m\u001b[0m\u001b[0m\n",
      "\u001b[1;31mValueError\u001b[0m: input operand has more dimensions than allowed by the axis remapping"
     ]
    },
    {
     "data": {
      "image/png": "[encoded data removed]",
      "text/plain": [
       "<Figure size 432x288 with 1 Axes>"
      ]
     },
     "metadata": {},
     "output_type": "display_data"
    }
   ],
   "source": [
    "import matplotlib as mpl\n",
    "from mpl_toolkits.mplot3d import Axes3D\n",
    "ax = plt.figure().gca(projection='3d')\n",
    "ax.plot(xw, xwsquare, np.dot(xfortrue, beta0), label='parametric curve')"
   ]
  },
  {
   "cell_type": "code",
   "execution_count": 45,
   "metadata": {},
   "outputs": [
    {
     "data": {
      "text/plain": [
       "array([2.05571144])"
      ]
     },
     "execution_count": 45,
     "metadata": {},
     "output_type": "execute_result"
    }
   ],
   "source": [
    "sklearn.metrics.mean_absolute_error(truey, predy, multioutput = \"raw_values\")"
   ]
  },
  {
   "cell_type": "code",
   "execution_count": 51,
   "metadata": {},
   "outputs": [
    {
     "name": "stdout",
     "output_type": "stream",
     "text": [
      "[[-5.64542259e-01]\n",
      " [-3.18980527e+00]\n",
      " [-3.17855463e+00]\n",
      " [-3.87935483e-01]\n",
      " [-4.58871471e+00]\n",
      " [-2.74217443e+00]\n",
      " [-6.08037618e+00]\n",
      " [ 8.97180496e-02]\n",
      " [ 1.05605937e-02]\n",
      " [-1.14664951e+00]\n",
      " [-5.26709558e+00]\n",
      " [-4.24048349e-02]\n",
      " [-4.81473656e+00]\n",
      " [ 1.25524662e-02]\n",
      " [-6.58988589e-01]\n",
      " [-1.04484440e+00]\n",
      " [ 3.16318285e-02]\n",
      " [-3.23543510e+00]\n",
      " [-4.02204675e+00]\n",
      " [-3.29759750e-01]\n",
      " [-1.73823010e+00]\n",
      " [-2.71546062e-01]\n",
      " [-1.24154982e+00]\n",
      " [-4.92944402e+00]\n",
      " [-3.09274455e+00]\n",
      " [ 3.44899796e-02]\n",
      " [ 4.34968973e-02]\n",
      " [-4.42506488e+00]\n",
      " [ 3.40341854e-02]\n",
      " [ 5.51585238e-03]\n",
      " [ 2.96451439e-02]\n",
      " [-1.57313459e+00]\n",
      " [-4.27770651e+00]\n",
      " [-1.63727347e+00]\n",
      " [-1.74143408e-01]\n",
      " [ 6.95658954e-02]\n",
      " [-1.86302406e+00]\n",
      " [-6.33119077e+00]\n",
      " [-1.68814363e+00]\n",
      " [-3.02874004e+00]\n",
      " [ 1.89418838e-02]\n",
      " [-3.16462728e+00]\n",
      " [-1.78233236e+00]\n",
      " [-5.29027426e+00]\n",
      " [-5.71303226e+00]\n",
      " [-3.95922697e+00]\n",
      " [-2.36994573e+00]\n",
      " [-4.11263791e+00]\n",
      " [ 5.98638429e-02]\n",
      " [ 4.13757886e-02]\n",
      " [-2.41729546e+00]\n",
      " [-2.89280551e+00]\n",
      " [-4.39821475e+00]\n",
      " [-6.00062715e-01]\n",
      " [ 2.95362976e-02]\n",
      " [-4.52497748e-01]\n",
      " [-5.17751318e-02]\n",
      " [-1.60298223e-01]\n",
      " [-2.53725921e+00]\n",
      " [ 9.44941944e-02]\n",
      " [-1.58140169e+00]\n",
      " [-5.79527740e-02]\n",
      " [-4.01512105e-02]\n",
      " [ 2.93617092e-02]\n",
      " [-3.77181529e+00]\n",
      " [-1.80775331e+00]\n",
      " [-1.32871568e+00]\n",
      " [-2.09357805e+00]\n",
      " [ 2.37964599e-02]\n",
      " [-2.51200352e-01]\n",
      " [-6.82514119e-01]\n",
      " [-7.55999482e-01]\n",
      " [ 4.10010115e-02]\n",
      " [-8.62483842e-02]\n",
      " [-6.51015472e+00]\n",
      " [-5.07757528e+00]\n",
      " [-4.81906291e-01]\n",
      " [-4.25245263e+00]\n",
      " [-1.30515274e+00]\n",
      " [ 2.21836685e-02]\n",
      " [-1.73594795e+00]\n",
      " [-2.23543466e+00]\n",
      " [-4.29178486e+00]\n",
      " [-1.53699044e+00]\n",
      " [-3.66980506e+00]\n",
      " [ 6.26196040e-02]\n",
      " [-3.01678015e+00]\n",
      " [-2.87177747e+00]\n",
      " [-7.67897599e-01]\n",
      " [-3.41166262e+00]\n",
      " [-1.15823420e-01]\n",
      " [-5.89543857e-01]\n",
      " [-3.25582214e+00]\n",
      " [-3.27495094e-01]\n",
      " [-6.30087323e+00]\n",
      " [ 1.46324990e-02]\n",
      " [-1.41925285e+00]\n",
      " [ 7.58924061e-02]\n",
      " [ 6.09187714e-02]\n",
      " [-6.47601193e-01]]\n",
      "42.3821144932083\n",
      "0\n"
     ]
    }
   ],
   "source": [
    "maxbias = np.array((1, num))\n",
    "maxbias = np.square(truey - predy)\n",
    "#print(maxbias)\n",
    "print(truey - predy)\n",
    "maxbias = np.max(maxbias)\n",
    "print(maxbias)\n",
    "maxbiasindex = np.argmax(maxbias)\n",
    "print(maxbiasindex)"
   ]
  },
  {
   "cell_type": "code",
   "execution_count": 69,
   "metadata": {},
   "outputs": [
    {
     "name": "stdout",
     "output_type": "stream",
     "text": [
      "the max bias occurred at x = 2.997915438\n"
     ]
    },
    {
     "data": {
      "image/png": "[encoded data removed]",
      "text/plain": [
       "<Figure size 432x288 with 1 Axes>"
      ]
     },
     "metadata": {},
     "output_type": "display_data"
    }
   ],
   "source": [
    "import numpy as np\n",
    "import matplotlib.pyplot as plt\n",
    "import sklearn.metrics\n",
    "xt = np.array(np.random.uniform(0.0, 1.0, 10)).reshape(10, 1)\n",
    "onem = np.ones((10, 1))\n",
    "ahat = np.hstack((onem, xt))\n",
    "xtsquare = np.array(np.square(xt)).reshape(10, 1)\n",
    "a = np.hstack((ahat, xtsquare))\n",
    "beta0 = np.array([1, 2, -1]).reshape(3, 1)\n",
    "betahat = np.dot(np.linalg.inv(np.dot(ahat.T, ahat)), np.dot(np.dot(ahat.T, a), beta0))\n",
    "num = 100\n",
    "base = np.random.uniform(0.0, 3.0, num)\n",
    "predy = np.dot(np.hstack((np.ones((num, 1)), np.array(base).reshape(num, 1))), betahat)\n",
    "plt.plot(base, predy)\n",
    "truey = np.dot(np.hstack((np.hstack((np.ones((num, 1)), np.array(base).reshape(num, 1))), \n",
    "                          np.array(np.square(base)).reshape(num, 1))), beta0)\n",
    "plt.scatter(base, truey)\n",
    "print(\"the max bias occurred at x = {0:5.9f}\".format(base[np.argmax(\n",
    "    np.square(truey - predy))]))"
   ]
  },
  {
   "cell_type": "code",
   "execution_count": 64,
   "metadata": {},
   "outputs": [
    {
     "name": "stdout",
     "output_type": "stream",
     "text": [
      "6.357023614604011\n",
      "40.41174923663305\n",
      "99\n"
     ]
    }
   ],
   "source": [
    "df = truey - predy\n",
    "print(np.max(np.abs(df)))\n",
    "#print(truey)\n",
    "#print(predy)\n",
    "#print(df)\n",
    "biassq = np.square(df)\n",
    "print(np.max(biassq))\n",
    "print(np.argmax(biassq))"
   ]
  },
  {
   "cell_type": "code",
   "execution_count": null,
   "metadata": {},
   "outputs": [],
   "source": []
  }
 ],
 "metadata": {
  "kernelspec": {
   "display_name": "Python 3",
   "language": "python",
   "name": "python3"
  },
  "language_info": {
   "codemirror_mode": {
    "name": "ipython",
    "version": 3
   },
   "file_extension": ".py",
   "mimetype": "text/x-python",
   "name": "python",
   "nbconvert_exporter": "python",
   "pygments_lexer": "ipython3",
   "version": "3.6.5"
  }
 },
 "nbformat": 4,
 "nbformat_minor": 2
}
