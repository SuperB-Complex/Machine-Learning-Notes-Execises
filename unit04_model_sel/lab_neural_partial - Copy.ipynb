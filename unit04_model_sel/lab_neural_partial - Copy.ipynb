{
 "cells": [
  {
   "cell_type": "markdown",
   "metadata": {},
   "source": [
    "# Lab:  Model Order Selection for Neural Data\n",
    "\n",
    "Machine learning is a key tool for neuroscientists to understand how sensory and motor signals are encoded in the brain.  In addition to improving our scientific understanding of neural phenomena, understanding neural encoding is critical for brain machine interfaces.  In this lab, you will use model selection for performing some simple analysis on real neural signals.  \n",
    "\n",
    "Before doing this lab, you should review the ideas in the [polynomial model selection demo](./polyfit.ipynb).  In addition to the concepts in that demo, you will learn to:\n",
    "* Represent neural time-series data in arrays\n",
    "* Load data from a pickle file\n",
    "* Describe and fit memoryless linear models\n",
    "* Describe and fit linear time-series models with delays\n",
    "* Fit linear models with multiple target outputs\n",
    "* Select the optimal delay via cross-validation"
   ]
  },
  {
   "cell_type": "markdown",
   "metadata": {},
   "source": [
    "## Loading the data\n",
    "\n",
    "The data in this lab comes from neural recordings described in:\n",
    "\n",
    "<a href=\"http://jn.physiology.org/content/106/2/764.short\">\n",
    "Stevenson, Ian H., et al. \"Statistical assessment of the stability of neural movement representations.\" Journal of neurophysiology 106.2 (2011): 764-774</a>\n",
    "\n",
    "Neurons are the basic information processing units in the brain.  Neurons communicate with one another via *spikes* or *action potentials* which are brief events where voltage in the neuron rapidly rises then falls.  These spikes trigger the electro-chemical signals between one neuron and another.  In this experiment, the spikes were recorded from 196 neurons in the primary motor cortex (M1) of a monkey using an electrode array implanted onto the surface of a monkey's brain.  During the recording, the monkey performed several reaching tasks and the position and velocity of the hand was recorded as well.  \n",
    "\n",
    "The goal of the experiment is to try to *read the monkey's brain*:  That is, predict the hand motion from the neural signals from the motor cortex.\n",
    "\n",
    "We first load the key packages."
   ]
  },
  {
   "cell_type": "code",
   "execution_count": 1,
   "metadata": {},
   "outputs": [],
   "source": [
    "import numpy as np\n",
    "import matplotlib.pyplot as plt\n",
    "import pickle\n",
    "\n",
    "from sklearn.linear_model import LinearRegression\n",
    "from sklearn.metrics import r2_score"
   ]
  },
  {
   "cell_type": "markdown",
   "metadata": {},
   "source": [
    "The full data is available on the CRCNS website  http://crcns.org/data-sets/movements/dream.  This website has a large number of great datasets and can be used for projects as well.  However, the raw data files can be quite large.  To make the lab easier, the [Kording lab](http://kordinglab.com/) at UPenn has put together an excellent [repository](https://github.com/KordingLab/Neural_Decoding) where they have created simple pre-processed versions of the data.  You can download the file `example_data_s1.pickle` from the [Dropbox link](https://www.dropbox.com/sh/n4924ipcfjqc0t6/AADOv9JYMUBK1tlg9P71gSSra/example_data_s1.pickle?dl=0).  Alternatively, you can directly run the following code.  This may take a little while to download since the file is 26 MB."
   ]
  },
  {
   "cell_type": "code",
   "execution_count": 2,
   "metadata": {},
   "outputs": [
    {
     "name": "stdout",
     "output_type": "stream",
     "text": [
      "File example_data_s1.pickle is already downloaded\n"
     ]
    }
   ],
   "source": [
    "fn_src = 'https://www.dropbox.com/sh/n4924ipcfjqc0t6/AADOv9JYMUBK1tlg9P71gSSra/example_data_s1.pickle?dl=1'\n",
    "fn_dst = 'example_data_s1.pickle'\n",
    "\n",
    "import os\n",
    "from six.moves import urllib\n",
    "\n",
    "if os.path.isfile(fn_dst):\n",
    "    print('File %s is already downloaded' % fn_dst)\n",
    "else:        \n",
    "    urllib.request.urlretrieve(fn_src, fn_dst)"
   ]
  },
  {
   "cell_type": "markdown",
   "metadata": {},
   "source": [
    "The file is a *pickle* data structure, which is a package to serialize python objects into data files.  Once you have downloaded the file, you can run the following command to retrieve the data from the pickle file."
   ]
  },
  {
   "cell_type": "code",
   "execution_count": 3,
   "metadata": {},
   "outputs": [],
   "source": [
    "with open('example_data_s1.pickle', 'rb') as fp:\n",
    "    X,y = pickle.load(fp)"
   ]
  },
  {
   "cell_type": "markdown",
   "metadata": {},
   "source": [
    "The matrix `X` is matrix of spike counts where `X[i,j]` is the number of spikes from neuron `j` in time bin `i`.\n",
    "The matrix `y` has two columns:\n",
    "* `y[i,0] = ` velocity of the monkey's hand in the x-direction\n",
    "* `y[i,1] = ` velocity of the monkey's hand in the y-direction\n",
    "Our goal will be to predict `y` from `X`.  \n",
    "\n",
    "Each time bin represent `tsamp=0.05` seconds of time.  Using `X.shape` and `y.shape` compute and print:\n",
    "* `nt = ` the total number of time bins\n",
    "* `nneuron = ` the total number of neurons\n",
    "* `nout = ` the total number of output variables to track = number of columns in `y`\n",
    "* `ttotal = ` total time of the experiment is seconds. "
   ]
  },
  {
   "cell_type": "code",
   "execution_count": 4,
   "metadata": {},
   "outputs": [
    {
     "data": {
      "text/plain": [
       "array([[0., 0., 0., ..., 0., 0., 1.],\n",
       "       [0., 0., 1., ..., 0., 0., 1.],\n",
       "       [0., 0., 0., ..., 0., 0., 1.],\n",
       "       ...,\n",
       "       [0., 0., 0., ..., 0., 0., 0.],\n",
       "       [0., 0., 0., ..., 0., 1., 0.],\n",
       "       [0., 0., 0., ..., 0., 0., 0.]])"
      ]
     },
     "execution_count": 4,
     "metadata": {},
     "output_type": "execute_result"
    }
   ],
   "source": [
    "X"
   ]
  },
  {
   "cell_type": "code",
   "execution_count": 5,
   "metadata": {},
   "outputs": [
    {
     "data": {
      "text/plain": [
       "<_io.BufferedReader name='example_data_s1.pickle'>"
      ]
     },
     "execution_count": 5,
     "metadata": {},
     "output_type": "execute_result"
    }
   ],
   "source": [
    "fp"
   ]
  },
  {
   "cell_type": "code",
   "execution_count": 6,
   "metadata": {},
   "outputs": [
    {
     "data": {
      "text/plain": [
       "<module 'pickle' from 'C:\\\\User_MJJ_things\\\\Anaconda_software\\\\lib\\\\pickle.py'>"
      ]
     },
     "execution_count": 6,
     "metadata": {},
     "output_type": "execute_result"
    }
   ],
   "source": [
    "pickle"
   ]
  },
  {
   "cell_type": "code",
   "execution_count": 7,
   "metadata": {},
   "outputs": [
    {
     "data": {
      "text/plain": [
       "array([[ 1.51037413e-01,  1.50912405e-01],\n",
       "       [-1.39498351e-01,  1.10064258e-01],\n",
       "       [-3.55773944e-01, -3.96432704e-01],\n",
       "       ...,\n",
       "       [ 3.19722904e-06, -1.32722761e-06],\n",
       "       [ 7.24814520e-07,  3.01404519e-06],\n",
       "       [ 9.51148351e-07, -1.48976504e-06]])"
      ]
     },
     "execution_count": 7,
     "metadata": {},
     "output_type": "execute_result"
    }
   ],
   "source": [
    "y"
   ]
  },
  {
   "cell_type": "code",
   "execution_count": 8,
   "metadata": {},
   "outputs": [],
   "source": [
    "tsamp = 0.05  # sampling time in seconds\n",
    "\n",
    "nt = X.shape[0]\n",
    "nneuron = X.shape[1]\n",
    "nout = y.shape[1]\n",
    "ttotal = tsamp * nt"
   ]
  },
  {
   "cell_type": "markdown",
   "metadata": {},
   "source": [
    "## Fitting a Memoryless Linear Model\n",
    "\n",
    "Let's first try a simple linear regression model to fit the data.\n",
    "\n",
    "First, use the `train_test_split` function to split the data into training and test.  Let `Xtr,ytr` be the training data set and `Xts,yts` be the test data set.  Use `test_size=0.33` so `1/3` of the data is used for test."
   ]
  },
  {
   "cell_type": "code",
   "execution_count": 9,
   "metadata": {},
   "outputs": [],
   "source": [
    "from sklearn.model_selection import train_test_split\n",
    "from sklearn.metrics import r2_score\n",
    "Xtr, Xts, ytr, yts = train_test_split(X, y, test_size=0.33)"
   ]
  },
  {
   "cell_type": "markdown",
   "metadata": {},
   "source": [
    "Now, fit a linear model using `Xtr,ytr`.  Make a prediction  `yhat` using `Xts`.  Compare `yhat` to `yts` to measure `rsq`, the  `R^2`.  You can use the `r2_score` method. Print the `rsq` value.  You should get `rsq` of around `0.45`. "
   ]
  },
  {
   "cell_type": "code",
   "execution_count": 10,
   "metadata": {},
   "outputs": [
    {
     "data": {
      "text/plain": [
       "0.46302100514141964"
      ]
     },
     "execution_count": 10,
     "metadata": {},
     "output_type": "execute_result"
    }
   ],
   "source": [
    "yhat = LinearRegression().fit(Xtr,ytr).predict(Xts)\n",
    "rsq = r2_score(yts, yhat)\n",
    "rsq"
   ]
  },
  {
   "cell_type": "code",
   "execution_count": 11,
   "metadata": {},
   "outputs": [
    {
     "data": {
      "text/plain": [
       "array([[-11.11515131,  -5.12821367],\n",
       "       [ -0.74096402,  -5.6475315 ],\n",
       "       [ -3.55550258,  -2.88021884],\n",
       "       ...,\n",
       "       [ -6.96536526,  -1.61593734],\n",
       "       [  0.17090286,   4.1537287 ],\n",
       "       [  2.05554204,   3.2730395 ]])"
      ]
     },
     "execution_count": 11,
     "metadata": {},
     "output_type": "execute_result"
    }
   ],
   "source": [
    "yhat"
   ]
  },
  {
   "cell_type": "markdown",
   "metadata": {},
   "source": [
    "It is useful to plot the predicted vs. true values.  Since we have two outputs, create two `subplots` using the `plt.subplot()` command.  In plot `i=0,1`, plot `yhat[:,i]` vs. `yts[:,i]` with a scatter plot.   Label the axes of the plots.  You may also use the command:\n",
    "\n",
    "    plt.figure(figsize=(10,5))\n",
    "    \n",
    "to make the figures a little larger."
   ]
  },
  {
   "cell_type": "code",
   "execution_count": 12,
   "metadata": {},
   "outputs": [
    {
     "data": {
      "text/plain": [
       "<matplotlib.collections.PathCollection at 0x1c2b6a14588>"
      ]
     },
     "execution_count": 12,
     "metadata": {},
     "output_type": "execute_result"
    },
    {
     "data": {
      "image/png": "[encoded data removed]",
      "text/plain": [
       "<Figure size 432x288 with 2 Axes>"
      ]
     },
     "metadata": {},
     "output_type": "display_data"
    }
   ],
   "source": [
    "xtsa = np.arange(0, Xts.shape[0] / 2, 1 / 2)\n",
    "plt.plot(figsize = (10, 5))\n",
    "plt.subplot(1,2,1)\n",
    "plt.scatter(yts[:,0], yhat[:,0],marker = \"o\")\n",
    "#plt.scatter(xtsa, yts[:,0],marker = \"^\")\n",
    "plt.subplot(1,2,2)\n",
    "plt.scatter(yts[:,1], yhat[:,1])\n",
    "#plt.scatter(xtsa, yts[:,1])"
   ]
  },
  {
   "cell_type": "code",
   "execution_count": 13,
   "metadata": {},
   "outputs": [
    {
     "data": {
      "text/plain": [
       "array([[False, False],\n",
       "       [False, False],\n",
       "       [False, False],\n",
       "       ...,\n",
       "       [False, False],\n",
       "       [False, False],\n",
       "       [False, False]])"
      ]
     },
     "execution_count": 13,
     "metadata": {},
     "output_type": "execute_result"
    }
   ],
   "source": [
    "#np.set_printoptions(threshold=np.inf)\n",
    "(yhat == yts)"
   ]
  },
  {
   "cell_type": "code",
   "execution_count": 14,
   "metadata": {},
   "outputs": [
    {
     "name": "stdout",
     "output_type": "stream",
     "text": [
      "(2, 3)\n",
      "(6,)\n",
      "[1 2 3 4 5 6]\n",
      "[[1 2 3]\n",
      " [4 5 6]\n",
      " [7 8 9]]\n",
      "[1 2 3 4 5 6 7 8 9]\n",
      "[1 2 3 4 5 6 7 8 9]\n",
      "[[1 2 3]\n",
      " [4 5 6]\n",
      " [7 8 9]]\n",
      "[[1 4 7]\n",
      " [2 5 8]\n",
      " [3 6 9]]\n",
      "[[1]\n",
      " [2]\n",
      " [3]\n",
      " [4]\n",
      " [5]\n",
      " [6]\n",
      " [7]\n",
      " [8]\n",
      " [9]]\n",
      "[[1 2 3 1 4 7]\n",
      " [4 5 6 2 5 8]\n",
      " [7 8 9 3 6 9]]\n",
      "[[[10 11 12]\n",
      "  [13 14 15]\n",
      "  [16 17 18]]\n",
      "\n",
      " [[20 21 22]\n",
      "  [23 24 25]\n",
      "  [26 27 28]]\n",
      "\n",
      " [[30 31 32]\n",
      "  [33 34 35]\n",
      "  [36 37 38]]\n",
      "\n",
      " [[40 41 42]\n",
      "  [43 44 45]\n",
      "  [46 47 48]]]\n",
      "(4, 3, 3)\n",
      "[[10 11 12 20 21 22 30 31 32 40 41 42]\n",
      " [13 14 15 23 24 25 33 34 35 43 44 45]\n",
      " [16 17 18 26 27 28 36 37 38 46 47 48]]\n",
      "[[10 11 12]\n",
      " [13 14 15]\n",
      " [16 17 18]\n",
      " [20 21 22]\n",
      " [23 24 25]\n",
      " [26 27 28]\n",
      " [30 31 32]\n",
      " [33 34 35]\n",
      " [36 37 38]\n",
      " [40 41 42]\n",
      " [43 44 45]\n",
      " [46 47 48]]\n"
     ]
    },
    {
     "data": {
      "text/plain": [
       "'thc = np.hstack(t[i] for i in iter(4))\\nprint(thc)'"
      ]
     },
     "execution_count": 14,
     "metadata": {},
     "output_type": "execute_result"
    }
   ],
   "source": [
    "import numpy as np\n",
    "a = np.array([1, 2, 3])\n",
    "b = np.array([4, 5, 6])\n",
    "b1 = np.array([7, 8, 9])\n",
    "c = np.vstack((a,b))\n",
    "print(c.shape)\n",
    "d = np.hstack((a,b))\n",
    "print(d.shape)\n",
    "print(d)\n",
    "e = np.vstack((a,b,b1))\n",
    "print(e)\n",
    "et = np.hstack((a.T,b.T,b1.T))\n",
    "print(et)\n",
    "eth = np.hstack((a,b,b1))\n",
    "print(eth)\n",
    "etr = np.vstack((a.T,b.T,b1.T))\n",
    "print(etr)\n",
    "ar = a.reshape(1,-1)\n",
    "br = b.reshape(1,-1)\n",
    "b1r = b1.reshape(1,-1)\n",
    "ert = np.hstack((ar.T,br.T,b1r.T))\n",
    "print(ert)\n",
    "etrr = np.vstack((ar.T,br.T,b1r.T))\n",
    "print(etrr)\n",
    "mh = np.hstack((e, ert))\n",
    "print(mh)\n",
    "t1 = np.arange(10, 19, 1).reshape(3,3)\n",
    "t2 = np.arange(20, 29, 1).reshape(3,3)\n",
    "t3 = np.arange(30, 39, 1).reshape(3,3)\n",
    "t4 = np.arange(40, 49, 1).reshape(3,3)\n",
    "t = np.array([t1,t2,t3,t4])\n",
    "print(t)\n",
    "print(t.shape)\n",
    "th = np.hstack(t[i] for i,v in enumerate(t))\n",
    "print(th)\n",
    "tv = np.vstack(t[i] for i,v in enumerate(t))\n",
    "print(tv)\n",
    "'''thc = np.hstack(t[i] for i in iter(4))\n",
    "print(thc)'''"
   ]
  },
  {
   "cell_type": "markdown",
   "metadata": {},
   "source": [
    "## Fitting Models with Delay\n",
    "\n",
    "One way we can improve the model accuracy is to used delayed version of the features.  Specifically, the model we used above mapped the features \n",
    "\n",
    "    yhat[i,k] = \\sum_{j=0}^{p-1} X[i,j]*w[j,k] + b[k]\n",
    "    \n",
    "where `p` is the number of features and `w[j,k]` is a matrix of coefficients.  In this model,  `yhat[i,:]` at time `i` was only dependent on the inputs  `X[i,:]` at time `i`.  In signal processing, this is called a *memoryless* model.  However, in many physical systems, such as those that arise in neuroscience, there is a delay between the inputs `X[i,:]` and the outputs `y[i]`.  For such cases, we can use a model of the form,\n",
    "\n",
    "    yhat[i+d,k] = \\sum_{k=0}^d  \\sum_{j=0}^{p-1} \\sum_{m=0}^d X[i+m,j]*W[j,m,k] + b[k]\n",
    "    \n",
    "where `W` is a 3-dim array of coefficients where:\n",
    "\n",
    "    W[j,m,k] is the influence of the input X[i+m,j] onto output y[i+d,k]\n",
    "\n",
    "\n",
    "In signal processing, this model is called an *FIR* filter and `W[j,:,k]` is the *impulse response* from the `j`-th input to the `k`-th output.  The point is that the output at time `i+d` depends on the inputs at times `i,i+1,...,i+d`.  Hence, it depends on the last `d+1` time steps, not just the most recent time.\n",
    "\n",
    "To translate this into a linear regression problem, complete the following function that creates a new feature and target matrix where:\n",
    "\n",
    "    Xdly[i,:] has the rows X[i,:], X[i++1,:], ..., X[i+dly,:]\n",
    "    ydly[i,:] = y[i+dly,:]\n",
    "    \n",
    "Thus, `Xdly[i,:]` contains all the delayed fetaures for the target `yhat`.  Note that if `X` is `n x p` then `Xdly` will be `n-dly x (dly+1)*p`.  \n"
   ]
  },
  {
   "cell_type": "code",
   "execution_count": 15,
   "metadata": {},
   "outputs": [],
   "source": [
    "#def get_row(X, i, dly):\n",
    "#    dlyarr = np.arange(0, dly + 1, 1)\n",
    "#    return np.vstack(X[i + ind] for ind,vi in enumerate(dlyarr))\n",
    "def create_dly_data(X,y,dly):\n",
    "    \"\"\"\n",
    "    Create delayed data\n",
    "    \"\"\"    \n",
    "    dlyarr = np.arange(1, dly + 1, 1)\n",
    "    jarr = np.arange(0, X.shape[0] - dly, 1)\n",
    "    iarr = np.arange(0, X.shape[1], 1)\n",
    "    temp = np.zeros((X.shape[0] - dly, (dly + 1) * X.shape[1]), dtype=int)\n",
    "    #Xdly = np.vstack(np.vstack(X[j + i] for i,vi in enumerate(dlyarr)), for j,vj in enumerate(jarr))\n",
    "    #Xdly = np.vstack(X[j + i] for i,vi in enumerate(dlyarr) for j,vj in enumerate(jarr)) original:61339 now:429331\n",
    "    #Xdly = np.vstack(X[j + i] for j,vj in enumerate(jarr) for i,vi in enumerate(dlyarr)) original:61339 now:429331\n",
    "    #Xdly = np.hstack(get_row(X, i, dly) for i,v in enumerate(jarr))\n",
    "    for i, vi in enumerate(jarr):\n",
    "        tem = X[i].reshape(1,-1)\n",
    "        #print(temp.shape)\n",
    "        for j, vj in enumerate(dlyarr):\n",
    "            tem = np.hstack((tem, X[i + vj].reshape(1,-1)))\n",
    "        #tempele = np.vstack(X[i + vid].reshape(1, -1) for ind,vid in enumerate(dlyarr))\n",
    "        #print(temp.shape)\n",
    "        #print(X[i].shape)\n",
    "        #temp[i] = np.vstack(X[i + vid] for ind,vid in enumerate(dlyarr))\n",
    "        temp[i] = tem\n",
    "    ydly = y[dly:, :]\n",
    "    Xdly = temp\n",
    "    return Xdly, ydly\n"
   ]
  },
  {
   "cell_type": "code",
   "execution_count": 16,
   "metadata": {},
   "outputs": [
    {
     "name": "stdout",
     "output_type": "stream",
     "text": [
      "(1, 104)\n",
      "(1, 52)\n"
     ]
    }
   ],
   "source": [
    "temp = np.hstack((X[0].reshape(1,-1), X[1].reshape(1,-1)))\n",
    "print(temp.shape)\n",
    "print(X[0].reshape(1, -1).shape)"
   ]
  },
  {
   "cell_type": "markdown",
   "metadata": {},
   "source": [
    "Now fit an linear delayed model with `dly=6` additional delay lags.  That is,\n",
    "* Create delayed data `Xdly,ydly=create_dly_data(X,y,dly=6)`\n",
    "* Split the data into training and test as before\n",
    "* Fit the model on the training data\n",
    "* Measure the `R^2` score on the test data\n",
    "\n",
    "If you did this correctly, you should get a new `R^2` score around 0.69.  This is significantly better than the memoryless models."
   ]
  },
  {
   "cell_type": "code",
   "execution_count": 17,
   "metadata": {},
   "outputs": [
    {
     "name": "stdout",
     "output_type": "stream",
     "text": [
      "(61339, 52)\n",
      "(61333, 364)\n",
      "(61333, 2)\n",
      "0.689438669704457\n"
     ]
    }
   ],
   "source": [
    "from sklearn.model_selection import train_test_split\n",
    "from sklearn.linear_model import LinearRegression\n",
    "from sklearn.metrics import r2_score\n",
    "print(X.shape)\n",
    "\n",
    "Xdly, ydly=create_dly_data(X,y,dly=6)\n",
    "print(Xdly.shape)\n",
    "print(ydly.shape)\n",
    "Xtr, Xts, ytr, yts = train_test_split(Xdly, ydly, test_size = 0.5)\n",
    "yts_pred = LinearRegression().fit(Xtr, ytr).predict(Xts)\n",
    "rsq = r2_score(yts, yts_pred)\n",
    "print(rsq)"
   ]
  },
  {
   "cell_type": "markdown",
   "metadata": {},
   "source": [
    "Plot the predicted vs. true values as before. You should visually see a better fit."
   ]
  },
  {
   "cell_type": "code",
   "execution_count": 22,
   "metadata": {},
   "outputs": [
    {
     "data": {
      "text/plain": [
       "<matplotlib.collections.PathCollection at 0x1c2b646a080>"
      ]
     },
     "execution_count": 22,
     "metadata": {},
     "output_type": "execute_result"
    },
    {
     "data": {
      "image/png": "[encoded data removed]",
      "text/plain": [
       "<Figure size 432x288 with 2 Axes>"
      ]
     },
     "metadata": {},
     "output_type": "display_data"
    }
   ],
   "source": [
    "plt.subplot(1,2,1)\n",
    "plt.scatter(yts_pred[:,0], yts[:,0])\n",
    "plt.subplot(1,2,2)\n",
    "plt.scatter(yts_pred[:,1], yts[:,1])"
   ]
  },
  {
   "cell_type": "markdown",
   "metadata": {},
   "source": [
    "*Note*:  Fitting an FIR model with the above method is very inefficient when the number of delays, `dly` is large.  In the above method, the number of columns of `X` grows from `p` to `(dly+1)*p` and the computations become expensive with `dly` is large.  We will describe a much faster way to fit such models using gradient descent when we talk about convolutional neural networks."
   ]
  },
  {
   "cell_type": "markdown",
   "metadata": {},
   "source": [
    "## Selecting the Optimal Delay via Model Order Selection\n",
    "\n",
    "In the previous example, we fixed `dly=6`.  We can now select the optimal delay using model order selection.  Since we have a large number of data samples, it turns out that the optimal model order uses a very high delay.  Using the above fitting method, the computations take too long.  So, to simplify the lab, we will first just pretent that we have a very limited data set.\n",
    "\n",
    "Compute `Xred` and `yred` by taking the first `nred=6000` samples of the data `X` and `y`.  This is about 10% of the overall data."
   ]
  },
  {
   "cell_type": "code",
   "execution_count": 24,
   "metadata": {},
   "outputs": [
    {
     "name": "stdout",
     "output_type": "stream",
     "text": [
      "(6000, 52)\n",
      "(6000, 2)\n"
     ]
    }
   ],
   "source": [
    "nred = 6000\n",
    "\n",
    "Xred = X[:nred]\n",
    "yred = y[:nred]\n",
    "print(Xred.shape)\n",
    "print(yred.shape)"
   ]
  },
  {
   "cell_type": "markdown",
   "metadata": {},
   "source": [
    "We will look at model orders up to `dmax=15`.  Create a delayed matrix data, `Xdly,ydly` from the reduced data, `Xred,yred` using `create_dly_data` with `dly=dmax`."
   ]
  },
  {
   "cell_type": "code",
   "execution_count": 25,
   "metadata": {},
   "outputs": [
    {
     "name": "stdout",
     "output_type": "stream",
     "text": [
      "(5985, 832)\n",
      "(5985, 2)\n"
     ]
    }
   ],
   "source": [
    "dmax = 15\n",
    "\n",
    "Xdly, ydly = create_dly_data(Xred, yred, dly = dmax)\n",
    "print(Xdly.shape)\n",
    "print(ydly.shape)"
   ]
  },
  {
   "cell_type": "code",
   "execution_count": 26,
   "metadata": {},
   "outputs": [
    {
     "name": "stdout",
     "output_type": "stream",
     "text": [
      "KFold(n_splits=2, random_state=None, shuffle=False)\n",
      "TRAIN: [2 3] TEST: [0 1]\n",
      "2\n",
      "3\n",
      "[[1 2]\n",
      " [3 4]]\n",
      "[3 4]\n",
      "0\n",
      "1\n",
      "[[1 2]\n",
      " [3 4]]\n",
      "[1 2]\n",
      "TRAIN: [0 1] TEST: [2 3]\n",
      "0\n",
      "1\n",
      "[[1 2]\n",
      " [3 4]]\n",
      "[1 2]\n",
      "2\n",
      "3\n",
      "[[1 2]\n",
      " [3 4]]\n",
      "[3 4]\n"
     ]
    }
   ],
   "source": [
    "from sklearn.model_selection import KFold\n",
    "X1 = np.array([[1, 2], [3, 4], [1, 2], [3, 4]])\n",
    "y1 = np.array([1, 2, 3, 4])\n",
    "kf1 = KFold(n_splits=2)\n",
    "kf1.get_n_splits(X1)\n",
    "print(kf1)  \n",
    "KFold(n_splits=2, random_state=None, shuffle=False)\n",
    "for train_index, test_index in kf1.split(X1):\n",
    "    print(\"TRAIN:\", train_index, \"TEST:\", test_index)\n",
    "    X_train, X_test = X1[train_index], X1[test_index]\n",
    "    y_train, y_test = y1[train_index], y1[test_index]\n",
    "    print(train_index[0])\n",
    "    print(train_index[1])\n",
    "    print(X_train)\n",
    "    print(y_train)\n",
    "    print(test_index[0])\n",
    "    print(test_index[1])\n",
    "    print(X_test)\n",
    "    print(y_test)    "
   ]
  },
  {
   "cell_type": "markdown",
   "metadata": {},
   "source": [
    "Complete the following code to implement K-fold cross validation with `nfold=5` and values of delays `dtest = [0,1,...,dmax]`."
   ]
  },
  {
   "cell_type": "code",
   "execution_count": 39,
   "metadata": {},
   "outputs": [
    {
     "name": "stdout",
     "output_type": "stream",
     "text": [
      "16\n",
      "fold = 0 \n",
      "fold = 1 \n",
      "fold = 2 \n",
      "fold = 3 \n",
      "fold = 4 \n"
     ]
    },
    {
     "data": {
      "text/plain": [
       "array([[0.42839354, 0.46059745, 0.44723807, 0.45839966, 0.48809715],\n",
       "       [0.63791538, 0.67160208, 0.64750368, 0.64600637, 0.67091706],\n",
       "       [0.64688652, 0.67748516, 0.64917493, 0.65173303, 0.67328334],\n",
       "       [0.64928652, 0.68245402, 0.65483697, 0.65633725, 0.67527009],\n",
       "       [0.65310439, 0.68663549, 0.65529463, 0.65684036, 0.67761703],\n",
       "       [0.65904214, 0.68766259, 0.6544322 , 0.66134889, 0.68250245],\n",
       "       [0.65892699, 0.68814449, 0.65757654, 0.66344853, 0.68387766],\n",
       "       [0.65634974, 0.68526469, 0.65347248, 0.66742183, 0.68104712],\n",
       "       [0.655914  , 0.68256484, 0.65133329, 0.66536638, 0.68365888],\n",
       "       [0.65479804, 0.67650409, 0.64832143, 0.6596149 , 0.68451906],\n",
       "       [0.64838692, 0.66937199, 0.64684806, 0.65512522, 0.68125436],\n",
       "       [0.63957808, 0.66038217, 0.63209689, 0.64599811, 0.67382254],\n",
       "       [0.61760487, 0.63954395, 0.61361674, 0.63429681, 0.66242116],\n",
       "       [0.58900256, 0.62216454, 0.58445773, 0.62357767, 0.6369343 ],\n",
       "       [0.54348882, 0.5807372 , 0.55288595, 0.57168541, 0.59463038],\n",
       "       [0.4410106 , 0.46517544, 0.45306914, 0.46386027, 0.49362961]])"
      ]
     },
     "execution_count": 39,
     "metadata": {},
     "output_type": "execute_result"
    }
   ],
   "source": [
    "import  sklearn.model_selection \n",
    "import  sklearn.linear_model\n",
    "import  sklearn.metrics\n",
    "\n",
    "# Number of folds\n",
    "nfold = 5\n",
    "kf = sklearn.model_selection.KFold(n_splits=nfold,shuffle=True)\n",
    "dtest = np.arange(0, dmax + 1, 1)\n",
    "nd = len(dtest)\n",
    "print(nd)\n",
    "Rsqm = np.zeros((nd, nfold))\n",
    "\n",
    "# Loop over the folds\n",
    "for isplit, Ind in enumerate(kf.split(Xdly)):\n",
    "    \n",
    "    print(\"fold = %d \" % isplit)\n",
    "    \n",
    "    # Get the training data in the split\n",
    "    Itr, Its = Ind        \n",
    "\n",
    "    for it, d in enumerate(dtest):\n",
    "        se = (d - 1) * (Xdly.shape[1] // dmax)\n",
    "        \n",
    "        # Split the data (Xdly1,ydly) into training and test\n",
    "        #Xtr, Xts = Xdly[Itr,se: ], Xdly[Its,se: ]\n",
    "        #ytr, yts = y[Itr, ], y[Its, ]\n",
    "        Xtr = Xdly[Itr, se:]\n",
    "        ytr = ydly[Itr]\n",
    "        Xts = Xdly[Its, se:]\n",
    "        yts = ydly[Its]\n",
    "        \n",
    "        yts_p_s = sklearn.linear_model.LinearRegression().fit(Xtr, ytr).predict(Xts)\n",
    "        \n",
    "        Rsqm[d, isplit] = sklearn.metrics.r2_score(yts, yts_p_s)      \n",
    "Rsqm"
   ]
  },
  {
   "cell_type": "markdown",
   "metadata": {},
   "source": [
    "Compute the mean and standard error of the `R^2` values as a function of the model order `d`.  Use a `plt.errorbar` plot.  Label your axes."
   ]
  },
  {
   "cell_type": "code",
   "execution_count": 43,
   "metadata": {},
   "outputs": [
    {
     "name": "stdout",
     "output_type": "stream",
     "text": [
      "[0.45654517 0.65478891 0.6597126  0.66363697 0.66589838 0.66899765\n",
      " 0.67039484 0.66871117 0.66776748 0.6647515  0.66019731 0.65037556\n",
      " 0.63349671 0.61122736 0.56868555 0.46334901]\n",
      "[0.00973274 0.00691998 0.00647786 0.00642679 0.00680268 0.00671017\n",
      " 0.00648424 0.00637526 0.00666277 0.0067981  0.0065992  0.00748248\n",
      " 0.00872238 0.01035267 0.0092517  0.00873267]\n"
     ]
    },
    {
     "data": {
      "image/png": "[encoded data removed]",
      "text/plain": [
       "<Figure size 432x288 with 1 Axes>"
      ]
     },
     "metadata": {},
     "output_type": "display_data"
    }
   ],
   "source": [
    "Rsqm_mean = np.mean(Rsqm, axis = 1)\n",
    "print(Rsqm_mean)\n",
    "Rsqm_std = np.std(Rsqm, axis = 1) / np.sqrt(nfold - 1)\n",
    "print(Rsqm_std)\n",
    "plt.errorbar(dtest, Rsqm_mean, yerr = Rsqm_std, fmt = '-')\n",
    "#plt.ylim(0,1.5)\n",
    "plt.xlabel('Model order')\n",
    "plt.ylabel('Test RSQ')\n",
    "plt.grid()"
   ]
  },
  {
   "cell_type": "markdown",
   "metadata": {},
   "source": [
    "Find the optimal order `d` with the normal rule (i.e. highest test `R^2`)"
   ]
  },
  {
   "cell_type": "code",
   "execution_count": 65,
   "metadata": {},
   "outputs": [
    {
     "name": "stdout",
     "output_type": "stream",
     "text": [
      "The estimated model order is 6\n"
     ]
    },
    {
     "data": {
      "image/png": "[encoded data removed]",
      "text/plain": [
       "<Figure size 432x288 with 1 Axes>"
      ]
     },
     "metadata": {},
     "output_type": "display_data"
    }
   ],
   "source": [
    "# Find the minimum RSS target\n",
    "imax = np.argmax(Rsqm_mean)\n",
    "plt.errorbar(dtest, Rsqm_mean, yerr=Rsqm_std, fmt='-')\n",
    "\n",
    "# Plot the line at the RSQ target\n",
    "plt.plot([dtest[0], dtest[imax]], [Rsqm_mean[imax], Rsqm_mean[imax]], '--')\n",
    "\n",
    "# Plot the line at the optimal model order\n",
    "plt.plot([imax,imax], [0,Rsqm_mean[imax]], 'g--')\n",
    "\n",
    "#plt.ylim(0,1.5)\n",
    "plt.xlabel('Model order')\n",
    "plt.ylabel('Test RSQ')\n",
    "plt.grid()\n",
    "\n",
    "# Print results\n",
    "print(\"The estimated model order is %d\" % dopt)"
   ]
  },
  {
   "cell_type": "markdown",
   "metadata": {},
   "source": [
    "Now find the optimal model order via the one SE rule (i.e. highest test `R^2` within on SE)"
   ]
  },
  {
   "cell_type": "code",
   "execution_count": 68,
   "metadata": {},
   "outputs": [
    {
     "name": "stdout",
     "output_type": "stream",
     "text": [
      "6\n",
      "0.6639105976754488\n",
      "[0.45654517 0.65478891 0.6597126  0.66363697 0.66589838 0.66899765\n",
      " 0.67039484 0.66871117 0.66776748 0.6647515  0.66019731 0.65037556\n",
      " 0.63349671 0.61122736 0.56868555 0.46334901]\n",
      "[4 5 6 7 8 9]\n",
      "The estimated model order is 4\n"
     ]
    },
    {
     "data": {
      "image/png": "[encoded data removed]",
      "text/plain": [
       "<Figure size 432x288 with 1 Axes>"
      ]
     },
     "metadata": {},
     "output_type": "display_data"
    }
   ],
   "source": [
    "# Find the minimum RSS target\n",
    "imax = np.argmax(Rsqm_mean)\n",
    "Rsqm_tgt = Rsqm_mean[imax] - Rsqm_std[imax]\n",
    "print(imax)\n",
    "print(Rsqm_tgt)\n",
    "print(Rsqm_mean)\n",
    "# Find the lowest model order below the target\n",
    "I = np.where(Rsqm_mean >= Rsqm_tgt)[0]\n",
    "#print(\"I\")\n",
    "print(I)\n",
    "iopt = I[0]\n",
    "dopt = dtest[iopt]\n",
    "\n",
    "plt.errorbar(dtest, Rsqm_mean, yerr=Rsqm_std, fmt='-')\n",
    "\n",
    "# Plot the line at the RSQ target\n",
    "plt.plot([dtest[0], dtest[imax]], [Rsqm_tgt, Rsqm_tgt], '--')\n",
    "\n",
    "# Plot the line at the optimal model order\n",
    "plt.plot([dopt,dopt], [0,Rsqm_mean[dopt]], 'g--')\n",
    "\n",
    "plt.ylim(0.4, 0.7)\n",
    "plt.xlabel('Model order')\n",
    "plt.ylabel('Test RSQ')\n",
    "plt.grid()\n",
    "\n",
    "# Print results\n",
    "print(\"The estimated model order is %d\" % dopt)"
   ]
  },
  {
   "cell_type": "code",
   "execution_count": null,
   "metadata": {},
   "outputs": [],
   "source": []
  }
 ],
 "metadata": {
  "kernelspec": {
   "display_name": "Python 3",
   "language": "python",
   "name": "python3"
  },
  "language_info": {
   "codemirror_mode": {
    "name": "ipython",
    "version": 3
   },
   "file_extension": ".py",
   "mimetype": "text/x-python",
   "name": "python",
   "nbconvert_exporter": "python",
   "pygments_lexer": "ipython3",
   "version": "3.6.5"
  }
 },
 "nbformat": 4,
 "nbformat_minor": 2
}
